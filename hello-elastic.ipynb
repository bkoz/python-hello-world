{
 "cells": [
  {
   "cell_type": "code",
   "execution_count": 3,
   "metadata": {},
   "outputs": [
    {
     "name": "stderr",
     "output_type": "stream",
     "text": [
      "INFO:root:url: https://localhost:443\n",
      "/projects/python-hello-world/.venv/lib64/python3.9/site-packages/elasticsearch/_sync/client/__init__.py:395: SecurityWarning: Connecting to 'https://localhost:443' using TLS with verify_certs=False is insecure\n",
      "  _transport = transport_class(\n"
     ]
    },
    {
     "ename": "TypeError",
     "evalue": "sequence item 1: expected str instance, NoneType found",
     "output_type": "error",
     "traceback": [
      "\u001b[0;31m---------------------------------------------------------------------------\u001b[0m",
      "\u001b[0;31mTypeError\u001b[0m                                 Traceback (most recent call last)",
      "Cell \u001b[0;32mIn[3], line 27\u001b[0m\n\u001b[1;32m     24\u001b[0m url \u001b[39m=\u001b[39m \u001b[39mf\u001b[39m\u001b[39m'\u001b[39m\u001b[39mhttps://\u001b[39m\u001b[39m{\u001b[39;00mELASTIC_HOST\u001b[39m}\u001b[39;00m\u001b[39m:\u001b[39m\u001b[39m{\u001b[39;00mELASTIC_PORT\u001b[39m}\u001b[39;00m\u001b[39m'\u001b[39m\n\u001b[1;32m     25\u001b[0m logging\u001b[39m.\u001b[39minfo(\u001b[39m\"\u001b[39m\u001b[39murl: \u001b[39m\u001b[39m%s\u001b[39;00m\u001b[39m\"\u001b[39m, url)\n\u001b[0;32m---> 27\u001b[0m es \u001b[39m=\u001b[39m Elasticsearch(url, verify_certs\u001b[39m=\u001b[39;49mVERIFY_CERTS, basic_auth\u001b[39m=\u001b[39;49m(ELASTIC_USER, ELASTIC_PASSWORD))\n\u001b[1;32m     29\u001b[0m \u001b[39m#\u001b[39;00m\n\u001b[1;32m     30\u001b[0m \u001b[39m# GET the Elastic status.\u001b[39;00m\n\u001b[1;32m     31\u001b[0m \u001b[39m#\u001b[39;00m\n\u001b[1;32m     32\u001b[0m logging\u001b[39m.\u001b[39minfo(\u001b[39m\"\u001b[39m\u001b[39mElastic info: \u001b[39m\u001b[39m%s\u001b[39;00m\u001b[39m:\u001b[39m\u001b[39m\"\u001b[39m, es\u001b[39m.\u001b[39minfo())\n",
      "File \u001b[0;32m/projects/python-hello-world/.venv/lib64/python3.9/site-packages/elasticsearch/_sync/client/__init__.py:419\u001b[0m, in \u001b[0;36mElasticsearch.__init__\u001b[0;34m(self, hosts, cloud_id, api_key, basic_auth, bearer_auth, opaque_id, headers, connections_per_node, http_compress, verify_certs, ca_certs, client_cert, client_key, ssl_assert_hostname, ssl_assert_fingerprint, ssl_version, ssl_context, ssl_show_warn, transport_class, request_timeout, node_class, node_pool_class, randomize_nodes_in_pool, node_selector_class, dead_node_backoff_factor, max_dead_node_backoff, serializer, serializers, default_mimetype, max_retries, retry_on_status, retry_on_timeout, sniff_on_start, sniff_before_requests, sniff_on_node_failure, sniff_timeout, min_delay_between_sniffing, sniffed_node_callback, meta_header, timeout, randomize_hosts, host_info_callback, sniffer_timeout, sniff_on_connection_fail, http_auth, maxsize, _transport)\u001b[0m\n\u001b[1;32m    417\u001b[0m \u001b[39mif\u001b[39;00m opaque_id \u001b[39mis\u001b[39;00m \u001b[39mnot\u001b[39;00m DEFAULT \u001b[39mand\u001b[39;00m opaque_id \u001b[39mis\u001b[39;00m \u001b[39mnot\u001b[39;00m \u001b[39mNone\u001b[39;00m:  \u001b[39m# type: ignore[comparison-overlap]\u001b[39;00m\n\u001b[1;32m    418\u001b[0m     \u001b[39mself\u001b[39m\u001b[39m.\u001b[39m_headers[\u001b[39m\"\u001b[39m\u001b[39mx-opaque-id\u001b[39m\u001b[39m\"\u001b[39m] \u001b[39m=\u001b[39m opaque_id\n\u001b[0;32m--> 419\u001b[0m \u001b[39mself\u001b[39m\u001b[39m.\u001b[39m_headers \u001b[39m=\u001b[39m resolve_auth_headers(\n\u001b[1;32m    420\u001b[0m     \u001b[39mself\u001b[39;49m\u001b[39m.\u001b[39;49m_headers,\n\u001b[1;32m    421\u001b[0m     http_auth\u001b[39m=\u001b[39;49mhttp_auth,\n\u001b[1;32m    422\u001b[0m     api_key\u001b[39m=\u001b[39;49mapi_key,\n\u001b[1;32m    423\u001b[0m     basic_auth\u001b[39m=\u001b[39;49mbasic_auth,\n\u001b[1;32m    424\u001b[0m     bearer_auth\u001b[39m=\u001b[39;49mbearer_auth,\n\u001b[1;32m    425\u001b[0m )\n\u001b[1;32m    427\u001b[0m \u001b[39m# namespaced clients for compatibility with API names\u001b[39;00m\n\u001b[1;32m    428\u001b[0m \u001b[39mself\u001b[39m\u001b[39m.\u001b[39masync_search \u001b[39m=\u001b[39m AsyncSearchClient(\u001b[39mself\u001b[39m)\n",
      "File \u001b[0;32m/projects/python-hello-world/.venv/lib64/python3.9/site-packages/elasticsearch/_sync/client/_base.py:131\u001b[0m, in \u001b[0;36mresolve_auth_headers\u001b[0;34m(headers, http_auth, api_key, basic_auth, bearer_auth)\u001b[0m\n\u001b[1;32m    127\u001b[0m     headers[\u001b[39m\"\u001b[39m\u001b[39mauthorization\u001b[39m\u001b[39m\"\u001b[39m] \u001b[39m=\u001b[39m \u001b[39mf\u001b[39m\u001b[39m\"\u001b[39m\u001b[39mApiKey \u001b[39m\u001b[39m{\u001b[39;00m_base64_auth_header(resolved_api_key)\u001b[39m}\u001b[39;00m\u001b[39m\"\u001b[39m\n\u001b[1;32m    128\u001b[0m \u001b[39mif\u001b[39;00m resolved_basic_auth:\n\u001b[1;32m    129\u001b[0m     headers[\n\u001b[1;32m    130\u001b[0m         \u001b[39m\"\u001b[39m\u001b[39mauthorization\u001b[39m\u001b[39m\"\u001b[39m\n\u001b[0;32m--> 131\u001b[0m     ] \u001b[39m=\u001b[39m \u001b[39mf\u001b[39m\u001b[39m\"\u001b[39m\u001b[39mBasic \u001b[39m\u001b[39m{\u001b[39;00m_base64_auth_header(resolved_basic_auth)\u001b[39m}\u001b[39;00m\u001b[39m\"\u001b[39m\n\u001b[1;32m    132\u001b[0m \u001b[39mif\u001b[39;00m resolved_bearer_auth:\n\u001b[1;32m    133\u001b[0m     headers[\u001b[39m\"\u001b[39m\u001b[39mauthorization\u001b[39m\u001b[39m\"\u001b[39m] \u001b[39m=\u001b[39m \u001b[39mf\u001b[39m\u001b[39m\"\u001b[39m\u001b[39mBearer \u001b[39m\u001b[39m{\u001b[39;00mresolved_bearer_auth\u001b[39m}\u001b[39;00m\u001b[39m\"\u001b[39m\n",
      "File \u001b[0;32m/projects/python-hello-world/.venv/lib64/python3.9/site-packages/elasticsearch/_sync/client/utils.py:246\u001b[0m, in \u001b[0;36m_base64_auth_header\u001b[0;34m(auth_value)\u001b[0m\n\u001b[1;32m    241\u001b[0m \u001b[39m\u001b[39m\u001b[39m\"\"\"Takes either a 2-tuple or a base64-encoded string\u001b[39;00m\n\u001b[1;32m    242\u001b[0m \u001b[39mand returns a base64-encoded string to be used\u001b[39;00m\n\u001b[1;32m    243\u001b[0m \u001b[39mas an HTTP authorization header.\u001b[39;00m\n\u001b[1;32m    244\u001b[0m \u001b[39m\"\"\"\u001b[39;00m\n\u001b[1;32m    245\u001b[0m \u001b[39mif\u001b[39;00m \u001b[39misinstance\u001b[39m(auth_value, (\u001b[39mlist\u001b[39m, \u001b[39mtuple\u001b[39m)):\n\u001b[0;32m--> 246\u001b[0m     \u001b[39mreturn\u001b[39;00m base64\u001b[39m.\u001b[39mb64encode(to_bytes(\u001b[39m\"\u001b[39;49m\u001b[39m:\u001b[39;49m\u001b[39m\"\u001b[39;49m\u001b[39m.\u001b[39;49mjoin(auth_value)))\u001b[39m.\u001b[39mdecode(\u001b[39m\"\u001b[39m\u001b[39mascii\u001b[39m\u001b[39m\"\u001b[39m)\n\u001b[1;32m    247\u001b[0m \u001b[39mreturn\u001b[39;00m to_str(auth_value)\n",
      "\u001b[0;31mTypeError\u001b[0m: sequence item 1: expected str instance, NoneType found"
     ]
    }
   ],
   "source": [
    "#!/usr/bin/env python\n",
    "# coding: utf-8\n",
    "\n",
    "\"\"\"\n",
    "Example ElasticSearch client using the SDK.\n",
    "\"\"\"\n",
    "\n",
    "import logging\n",
    "import os\n",
    "from datetime import datetime\n",
    "from elasticsearch import Elasticsearch\n",
    "\n",
    "logging.basicConfig(level=logging.INFO)\n",
    "\n",
    "#\n",
    "# The following environment variables need to be set:\n",
    "#\n",
    "ELASTIC_HOST = os.getenv(\"ELASTIC_HOST\", \"localhost\")\n",
    "ELASTIC_PASSWORD = os.getenv(\"ELASTIC_PASSWORD\")\n",
    "ELASTIC_USER = os.getenv(\"ELASTIC_USER\", \"elastic\")\n",
    "ELASTIC_PORT = os.getenv(\"ELASTIC_PORT\", \"443\")\n",
    "VERIFY_CERTS = os.getenv(\"VERIFY_CERTS\", False)\n",
    "\n",
    "url = f'https://{ELASTIC_HOST}:{ELASTIC_PORT}'\n",
    "logging.info(\"url: %s\", url)\n",
    "\n",
    "es = Elasticsearch(url, verify_certs=VERIFY_CERTS, basic_auth=(ELASTIC_USER, ELASTIC_PASSWORD))\n",
    "\n",
    "#\n",
    "# GET the Elastic status.\n",
    "#\n",
    "logging.info(\"Elastic info: %s:\", es.info())\n",
    "\n",
    "#\n",
    "# POST some example data.\n",
    "#\n",
    "# To index a document, three pieces of information are required: index, id, and a body\n",
    "#\n",
    "doc = {\n",
    "    'author': 'Abraham Lincoln',\n",
    "    'text': 'Four score and seven years ago...',\n",
    "    'timestamp': datetime.now(),\n",
    "}\n",
    "resp = es.index(index=\"test-index\", id=1, document=doc)\n",
    "logging.info(\"response: %s\", resp['result'])\n",
    "\n",
    "#\n",
    "# GET the example back.\n",
    "#\n",
    "# To get a document, the index and id are required:\n",
    "#\n",
    "resp = es.get(index=\"test-index\", id=1)\n",
    "logging.info(\"response: %s\", resp['_source'])\n",
    "\n",
    "#\n",
    "# Search\n",
    "#\n",
    "resp = es.search(index=\"test-index\", query={\"match_all\": {}})\n",
    "logging.info(\"Got %d Hits:\", resp['hits']['total']['value'])\n",
    "for hit in resp['hits']['hits']:\n",
    "    logging.info(\"%(timestamp)s %(author)s: %(text)s\", hit[\"_source\"])\n"
   ]
  }
 ],
 "metadata": {
  "kernelspec": {
   "display_name": "python-hello-world",
   "language": "python",
   "name": "python3"
  },
  "language_info": {
   "codemirror_mode": {
    "name": "ipython",
    "version": 3
   },
   "file_extension": ".py",
   "mimetype": "text/x-python",
   "name": "python",
   "nbconvert_exporter": "python",
   "pygments_lexer": "ipython3",
   "version": "3.9.16"
  },
  "orig_nbformat": 4
 },
 "nbformat": 4,
 "nbformat_minor": 2
}
